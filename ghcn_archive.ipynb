{
 "cells": [
  {
   "cell_type": "code",
   "execution_count": 13,
   "metadata": {},
   "outputs": [],
   "source": [
    "# GHCN archive class\n",
    "\n",
    "import os\n",
    "from six.moves import urllib\n",
    "import tarfile\n",
    "#import urllib2\n",
    "\n",
    "GHCN_PATH = os.path.join(\"static\", \"src\")\n",
    "GHCN_URL = \"ftp://ftp.ncdc.noaa.gov/pub/data/ghcn/daily/\"\n",
    "GHCN_FILES = {\n",
    "    'GHCN_TGZ': \"ghcnd_all.tar.gz\",\n",
    "    'GHCN_VERSION': \"ghcnd-version.txt\",\n",
    "    'GHCN_STATIONS': \"ghcnd-stations.txt\",\n",
    "    'GHCN_INVENTORY': \"ghcnd-inventory.txt\",\n",
    "    'GHCN_COUNTRIES': \"ghcnd-countries.txt\",\n",
    "    'GHCN_STATES': \"ghcnd-states.txt\",\n",
    "    'GHCN_DAILY': os.path.join(GHCN_PATH, 'ghcnd_all')}\n",
    "\n",
    "class GHCN_archive:\n",
    "    def __init__(self, ghcn_url=GHCN_URL, ghcn_path=GHCN_PATH):\n",
    "        self.url = ghcn_url\n",
    "        self.path = ghcn_path\n",
    "        self.files = GHCN_FILES\n",
    "        self.version_file = os.path.join(self.path, self.files['GHCN_VERSION'])\n",
    "        self.init_complete = False\n",
    "        self.setup_complete = False\n",
    "        self.version = None\n",
    "        self.extracts = []\n",
    "        \n",
    "        # check if the path exists - if not setup the directory structure\n",
    "        if not os.path.isdir(self.path):\n",
    "            os.makedirs(self.path)\n",
    "        else:\n",
    "            # see if the archive is already downloaded\n",
    "            self.check_setup()\n",
    "            if self.setup_complete:\n",
    "                self.set_version()\n",
    "            # see if any files already extracted\n",
    "            if os.path.isdir(self.files['GHCN_DAILY']):\n",
    "                self.extracts = os.listdir(self.files['GHCN_DAILY'])\n",
    "                    \n",
    "        # check if the url given is valid\n",
    "        try:\n",
    "            site = urllib.request.urlopen(ghcn_url)\n",
    "            self.init_complete = True\n",
    "        except Exception as e:\n",
    "            print(e)\n",
    "            print(f'URL {ghcn_url} is not valid')\n",
    "            self.init_complete = False\n",
    "            \n",
    "    def __repr__(self):\n",
    "        return (f'{self.__class__.__name__}(Initialized: {self.init_complete}, Setup: {self.setup_complete}, Version: {self.version})')\n",
    "\n",
    "    def check_setup(self):\n",
    "        # see if all six files are already downloaded, if True - set setup flag to True\n",
    "        for item in list(self.files.values())[:-1]:\n",
    "            fname = os.path.join(self.path, item)\n",
    "            print(f\"Checking: {fname}\")\n",
    "            if not os.path.isfile(fname):\n",
    "                self.setup_complete = False\n",
    "                print(f\"Setup failed for: {fname}\")\n",
    "                return\n",
    "        # only get to here if all 6 files are downloaded\n",
    "        self.setup_complete = True\n",
    "        \n",
    "    def set_version(self):\n",
    "        if os.path.isfile(self.version_file):\n",
    "            with open(self.version_file, 'r') as fp:\n",
    "                version_list = []\n",
    "                for line in fp:\n",
    "                    version_list.extend(line.split())\n",
    "                self.version = version_list[7] # this uses specific information about the file structure of `ghcnd-inventory.txt`\n",
    "                print(f\"Version found: {self.version}\")\n",
    "        else:\n",
    "            self.version = None\n",
    "            print(\"No local version found\")\n",
    "        \n",
    "    def setup(self):\n",
    "        # download the six files \n",
    "        # change the setup_complete flag to False if fail to download any of the 6 files\n",
    "        self.setup_complete = True \n",
    "        for item in list(self.files.values())[:-1]:\n",
    "            item_url = self.url + item\n",
    "            item_path = os.path.join(self.path, item)\n",
    "            try:\n",
    "                print(f\"Downloading {item_url}\")\n",
    "                urllib.request.urlretrieve(item_url, item_path)\n",
    "                # set the version\n",
    "                if item_path == self.version_file:\n",
    "                    self.set_version()\n",
    "            except Exception as e:\n",
    "                print(e)\n",
    "                print(f\"Failed to download the file: {item}\")\n",
    "                self.setup_complete = False\n",
    "        \n",
    "    def remove_archive(self):\n",
    "        # removes the files but keeps the directory structure\n",
    "        for item in list(self.files.values()):\n",
    "            item_path = os.path.join(self.path, item)\n",
    "            if os.path.isfile(item_path):\n",
    "                os.remove(item_path)\n",
    "                \n",
    "        # remove any extracted files\n",
    "        for item in self.extracts:\n",
    "            item_path = os.path.join(self.files['GHCN_DAILY'], item)\n",
    "            if os.path.isfile(item_path):\n",
    "                os.remove(item_path)\n",
    "        \n",
    "        if os.path.exists(self.files['GHCN_DAILY']):\n",
    "            os.rmdir(self.files['GHCN_DAILY'])\n",
    "            \n",
    "        self.setup_complete = False\n",
    "        self.extracts = []\n",
    "        self.version = None\n",
    "            \n",
    "    def check_for_newer_version(self):\n",
    "        # download the version file and compare to file on location\n",
    "        if self.version:\n",
    "            tmp_version = os.path.join(self.path, \"tmp_version.txt\")\n",
    "            version_url = self.url + self.files['GHCN_VERSION']\n",
    "            try:\n",
    "                urllib.request.urlretrieve(version_url, tmp_version)\n",
    "            except Exception as e:\n",
    "                print(e)\n",
    "                print(f\"Failed to retrieve version file: {version_url}\")\n",
    "            \n",
    "            if os.path.isfile(tmp_version):\n",
    "                with open(tmp_version, 'r') as fp:\n",
    "                    version_list = []\n",
    "                    for line in fp:\n",
    "                        version_list.extend(line.split())\n",
    "                    newest_version = version_list[7]\n",
    "                    print(f\"Current version: {self.version}; Newest versison: {newest_version}\")\n",
    "                os.remove(tmp_version)\n",
    "        else:\n",
    "            print(f\"No local version available\")\n",
    "            \n",
    "    def list_files(self):\n",
    "        files = os.listdir(self.path)\n",
    "        for file in files:\n",
    "            print(file)\n",
    "        if self.extracts:\n",
    "            for file in self.extracts:\n",
    "                print(file)\n",
    "\n",
    "    def extract_station(self, station_id):\n",
    "        if not self.setup:\n",
    "            print(f\"Archive not setup.  Create archive first.\")\n",
    "            return\n",
    "        tgz_file = os.path.join(self.path, self.files['GHCN_TGZ'])\n",
    "        tar = tarfile.open(tgz_file, 'r:gz')\n",
    "        dly_file = \"ghcnd_all/\" + station_id + \".dly\"\n",
    "        outdir = self.path\n",
    "        try:\n",
    "            tar.extract(dly_file, outdir)\n",
    "            self.extracts.append(station_id + '.dly')\n",
    "        except Exception as e:\n",
    "            print(e)\n",
    "        tar.close()\n",
    "        \n",
    "    def extract_stations(self, station_ids):\n",
    "        if not self.setup:\n",
    "            print(f\"Archive not setup.  Create archive first.\")\n",
    "            return\n",
    "        tgz_file = os.path.join(self.path, self.files['GHCN_TGZ'])\n",
    "        tar = tarfile.open(tgz_file, 'r:gz')\n",
    "        for station_id in station_ids:\n",
    "            dly_file = \"ghcnd_all/\" + station_id + \".dly\"\n",
    "            outdir = self.path\n",
    "            try:\n",
    "                tar.extract(dly_file, outdir)\n",
    "                self.extracts.append(station_id + '.dly')\n",
    "            except Exception as e:\n",
    "                print(e)\n",
    "                print(f\"Failed to extract {dly_file}\")\n",
    "        tar.close()"
   ]
  },
  {
   "cell_type": "code",
   "execution_count": 14,
   "metadata": {},
   "outputs": [
    {
     "name": "stdout",
     "output_type": "stream",
     "text": [
      "Checking: static\\src\\ghcnd_all.tar.gz\n",
      "Checking: static\\src\\ghcnd-version.txt\n",
      "Checking: static\\src\\ghcnd-stations.txt\n",
      "Checking: static\\src\\ghcnd-inventory.txt\n",
      "Checking: static\\src\\ghcnd-countries.txt\n",
      "Checking: static\\src\\ghcnd-states.txt\n",
      "Version found: 3.27-upd-2019081018\n"
     ]
    }
   ],
   "source": [
    "ghcn = GHCN_archive()"
   ]
  },
  {
   "cell_type": "code",
   "execution_count": 15,
   "metadata": {},
   "outputs": [
    {
     "data": {
      "text/plain": [
       "GHCN_archive(Initialized: True, Setup: True, Version: 3.27-upd-2019081018)"
      ]
     },
     "execution_count": 15,
     "metadata": {},
     "output_type": "execute_result"
    }
   ],
   "source": [
    "ghcn"
   ]
  },
  {
   "cell_type": "code",
   "execution_count": 4,
   "metadata": {},
   "outputs": [
    {
     "name": "stdout",
     "output_type": "stream",
     "text": [
      "Downloading ftp://ftp.ncdc.noaa.gov/pub/data/ghcn/daily/ghcnd_all.tar.gz\n",
      "Downloading ftp://ftp.ncdc.noaa.gov/pub/data/ghcn/daily/ghcnd-version.txt\n",
      "Version found: 3.27-upd-2019081018\n",
      "Downloading ftp://ftp.ncdc.noaa.gov/pub/data/ghcn/daily/ghcnd-stations.txt\n",
      "Downloading ftp://ftp.ncdc.noaa.gov/pub/data/ghcn/daily/ghcnd-inventory.txt\n",
      "Downloading ftp://ftp.ncdc.noaa.gov/pub/data/ghcn/daily/ghcnd-countries.txt\n",
      "Downloading ftp://ftp.ncdc.noaa.gov/pub/data/ghcn/daily/ghcnd-states.txt\n"
     ]
    }
   ],
   "source": [
    "ghcn.setup()"
   ]
  },
  {
   "cell_type": "code",
   "execution_count": 16,
   "metadata": {},
   "outputs": [
    {
     "name": "stdout",
     "output_type": "stream",
     "text": [
      "Checking: static\\src\\ghcnd_all.tar.gz\n",
      "Checking: static\\src\\ghcnd-version.txt\n",
      "Checking: static\\src\\ghcnd-stations.txt\n",
      "Checking: static\\src\\ghcnd-inventory.txt\n",
      "Checking: static\\src\\ghcnd-countries.txt\n",
      "Checking: static\\src\\ghcnd-states.txt\n"
     ]
    }
   ],
   "source": [
    "ghcn.check_setup()"
   ]
  },
  {
   "cell_type": "code",
   "execution_count": 17,
   "metadata": {},
   "outputs": [
    {
     "name": "stdout",
     "output_type": "stream",
     "text": [
      "ghcnd-countries.txt\n",
      "ghcnd-inventory.txt\n",
      "ghcnd-states.txt\n",
      "ghcnd-stations.txt\n",
      "ghcnd-version.txt\n",
      "ghcnd_all\n",
      "ghcnd_all.tar.gz\n",
      "USW00014992.dly\n"
     ]
    }
   ],
   "source": [
    "ghcn.list_files()"
   ]
  },
  {
   "cell_type": "code",
   "execution_count": 7,
   "metadata": {},
   "outputs": [],
   "source": [
    "ghcn.extract_station('USW00014992')"
   ]
  },
  {
   "cell_type": "code",
   "execution_count": 8,
   "metadata": {},
   "outputs": [
    {
     "data": {
      "text/plain": [
       "['USW00014992.dly']"
      ]
     },
     "execution_count": 8,
     "metadata": {},
     "output_type": "execute_result"
    }
   ],
   "source": [
    "ghcn.extracts"
   ]
  },
  {
   "cell_type": "code",
   "execution_count": 10,
   "metadata": {},
   "outputs": [],
   "source": [
    "#ghcn.remove_archive() #This will remove everything - only included for completeness"
   ]
  },
  {
   "cell_type": "code",
   "execution_count": 18,
   "metadata": {},
   "outputs": [
    {
     "data": {
      "text/plain": [
       "GHCN_archive(Initialized: True, Setup: True, Version: 3.27-upd-2019081018)"
      ]
     },
     "execution_count": 18,
     "metadata": {},
     "output_type": "execute_result"
    }
   ],
   "source": [
    "ghcn"
   ]
  },
  {
   "cell_type": "code",
   "execution_count": 19,
   "metadata": {},
   "outputs": [],
   "source": [
    "ghcn.extract_stations(['US1MNAA0002', 'USW00014925', 'USW00094960'])"
   ]
  },
  {
   "cell_type": "code",
   "execution_count": 20,
   "metadata": {},
   "outputs": [
    {
     "name": "stdout",
     "output_type": "stream",
     "text": [
      "ghcnd-countries.txt\n",
      "ghcnd-inventory.txt\n",
      "ghcnd-states.txt\n",
      "ghcnd-stations.txt\n",
      "ghcnd-version.txt\n",
      "ghcnd_all\n",
      "ghcnd_all.tar.gz\n",
      "USW00014992.dly\n",
      "US1MNAA0002.dly\n",
      "USW00014925.dly\n",
      "USW00094960.dly\n"
     ]
    }
   ],
   "source": [
    "ghcn.list_files()"
   ]
  },
  {
   "cell_type": "code",
   "execution_count": null,
   "metadata": {},
   "outputs": [],
   "source": []
  }
 ],
 "metadata": {
  "kernelspec": {
   "display_name": "Python 3",
   "language": "python",
   "name": "python3"
  },
  "language_info": {
   "codemirror_mode": {
    "name": "ipython",
    "version": 3
   },
   "file_extension": ".py",
   "mimetype": "text/x-python",
   "name": "python",
   "nbconvert_exporter": "python",
   "pygments_lexer": "ipython3",
   "version": "3.7.1"
  }
 },
 "nbformat": 4,
 "nbformat_minor": 2
}
